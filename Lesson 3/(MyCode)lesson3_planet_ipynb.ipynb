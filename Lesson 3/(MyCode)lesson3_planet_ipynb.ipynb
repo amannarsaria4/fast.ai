{
  "nbformat": 4,
  "nbformat_minor": 0,
  "metadata": {
    "colab": {
      "name": "(MyCode)lesson3-planet.ipynb.ipynb",
      "provenance": [],
      "authorship_tag": "ABX9TyNQvPU3jVEEGjEKH1SzNLMS",
      "include_colab_link": true
    },
    "kernelspec": {
      "name": "python3",
      "display_name": "Python 3"
    }
  },
  "cells": [
    {
      "cell_type": "markdown",
      "metadata": {
        "id": "view-in-github",
        "colab_type": "text"
      },
      "source": [
        "<a href=\"https://colab.research.google.com/github/amannarsaria4/fast.ai/blob/master/Lesson%203/(MyCode)lesson3_planet_ipynb.ipynb\" target=\"_parent\"><img src=\"https://colab.research.google.com/assets/colab-badge.svg\" alt=\"Open In Colab\"/></a>"
      ]
    },
    {
      "cell_type": "markdown",
      "metadata": {
        "id": "18Xmro9ONA09",
        "colab_type": "text"
      },
      "source": [
        "##Datasets"
      ]
    },
    {
      "cell_type": "code",
      "metadata": {
        "id": "41_wk1ZlIyWN",
        "colab_type": "code",
        "colab": {}
      },
      "source": [
        "tfms = get_transforms(flip_vert = True, max_lighting = 0.1, max_zoom = 1.05, max_warp = 0.)"
      ],
      "execution_count": null,
      "outputs": []
    },
    {
      "cell_type": "code",
      "metadata": {
        "id": "OETqnqjZNRiC",
        "colab_type": "code",
        "colab": {}
      },
      "source": [
        "src = ImageList.from_csv(path, train_v2.csv, folder = 'train-jpg', suffix = '.jpg').split_by_rand_pct(0.2).label_from_df(label_delim = ' ')"
      ],
      "execution_count": null,
      "outputs": []
    },
    {
      "cell_type": "code",
      "metadata": {
        "id": "N9iVTTUIN2TC",
        "colab_type": "code",
        "colab": {}
      },
      "source": [
        "data = src.transform(tfms, size).databunch().normalize(imagenet_stats)"
      ],
      "execution_count": null,
      "outputs": []
    },
    {
      "cell_type": "markdown",
      "metadata": {
        "id": "KP2cK-LMOj29",
        "colab_type": "text"
      },
      "source": [
        "##Model"
      ]
    },
    {
      "cell_type": "code",
      "metadata": {
        "id": "qAOBlQFFOk5l",
        "colab_type": "code",
        "colab": {}
      },
      "source": [
        "acc_02 = partial(accuracy_thresh, thresh = 0.2)\n",
        "f_score = partial(fbeta, thresh = 0.2)\n",
        "learn = cnn_learner(data, models.resnet50, metrics = [acc_02, f_score])"
      ],
      "execution_count": null,
      "outputs": []
    },
    {
      "cell_type": "code",
      "metadata": {
        "id": "u7ucSpWtPAuI",
        "colab_type": "code",
        "colab": {}
      },
      "source": [
        "learn.lr_find()\n",
        "learn.recorder.plot()"
      ],
      "execution_count": null,
      "outputs": []
    },
    {
      "cell_type": "code",
      "metadata": {
        "id": "B9GeCcoePLK6",
        "colab_type": "code",
        "colab": {}
      },
      "source": [
        "learn.fit_one_cycle(4, max_lr = 0.01)\n",
        "learn.save('stage-1-rn50')"
      ],
      "execution_count": null,
      "outputs": []
    },
    {
      "cell_type": "code",
      "metadata": {
        "id": "HRnbEs-QPxNu",
        "colab_type": "code",
        "colab": {}
      },
      "source": [
        "learn.unfreeze()\n",
        "learn.lr_find()\n",
        "learn.recorder.plot()\n"
      ],
      "execution_count": null,
      "outputs": []
    },
    {
      "cell_type": "code",
      "metadata": {
        "id": "SXoQ0S9VP5ih",
        "colab_type": "code",
        "colab": {}
      },
      "source": [
        "learn.fit_one_cycle(6, max_lr = slice(1e-5,1e-4))"
      ],
      "execution_count": null,
      "outputs": []
    },
    {
      "cell_type": "code",
      "metadata": {
        "id": "GkWsqkFoQF8n",
        "colab_type": "code",
        "colab": {}
      },
      "source": [
        "learn.save('stage-2-rn50')"
      ],
      "execution_count": null,
      "outputs": []
    },
    {
      "cell_type": "markdown",
      "metadata": {
        "id": "sseO-CCAQleO",
        "colab_type": "text"
      },
      "source": [
        "##Large Model"
      ]
    },
    {
      "cell_type": "code",
      "metadata": {
        "id": "AAn1F_hdQjCc",
        "colab_type": "code",
        "colab": {}
      },
      "source": [
        "data = src.transform(tfms, size = 256).databunch().normalize(imagenet_stats)"
      ],
      "execution_count": null,
      "outputs": []
    },
    {
      "cell_type": "code",
      "metadata": {
        "id": "7IbJRm4MQzGY",
        "colab_type": "code",
        "colab": {}
      },
      "source": [
        "learn = cnn_learner(data, models.resnet50, metrics=[acc_02, f_score])\n",
        "learn.load('stage-2-rn50')"
      ],
      "execution_count": null,
      "outputs": []
    },
    {
      "cell_type": "code",
      "metadata": {
        "id": "J3TK5y9XRJw8",
        "colab_type": "code",
        "colab": {}
      },
      "source": [
        "learn.lr_find()\n",
        "learn.recorder.plot()\n"
      ],
      "execution_count": null,
      "outputs": []
    },
    {
      "cell_type": "code",
      "metadata": {
        "id": "ShAHeMNYRQ0X",
        "colab_type": "code",
        "colab": {}
      },
      "source": [
        "learn.fit_one_cycle(5, lr = 0.01)"
      ],
      "execution_count": null,
      "outputs": []
    },
    {
      "cell_type": "code",
      "metadata": {
        "id": "YAHcQydnRXBJ",
        "colab_type": "code",
        "colab": {}
      },
      "source": [
        "learn.save('stage-1-rn50-big')"
      ],
      "execution_count": null,
      "outputs": []
    },
    {
      "cell_type": "code",
      "metadata": {
        "id": "MgRBqmuQRc_o",
        "colab_type": "code",
        "colab": {}
      },
      "source": [
        "learn.unfreeze()"
      ],
      "execution_count": null,
      "outputs": []
    },
    {
      "cell_type": "code",
      "metadata": {
        "id": "TETBV_9rRpPE",
        "colab_type": "code",
        "colab": {}
      },
      "source": [
        "learn.lr_find()\n",
        "learn.recorder.plot()"
      ],
      "execution_count": null,
      "outputs": []
    },
    {
      "cell_type": "code",
      "metadata": {
        "id": "PZ8tAA7dRvCj",
        "colab_type": "code",
        "colab": {}
      },
      "source": [
        "learn.fit_one_cycle(5,slice(1e-5, 1e-4))"
      ],
      "execution_count": null,
      "outputs": []
    },
    {
      "cell_type": "code",
      "metadata": {
        "id": "nM9_r6PFR970",
        "colab_type": "code",
        "colab": {}
      },
      "source": [
        "learn.recoder.plot_losses()"
      ],
      "execution_count": null,
      "outputs": []
    },
    {
      "cell_type": "code",
      "metadata": {
        "id": "1QqknnVBSEmH",
        "colab_type": "code",
        "colab": {}
      },
      "source": [
        "learn.save('stage-2-rn50-big')"
      ],
      "execution_count": null,
      "outputs": []
    }
  ]
}