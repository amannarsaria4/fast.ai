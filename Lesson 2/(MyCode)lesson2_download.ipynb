{
  "nbformat": 4,
  "nbformat_minor": 0,
  "metadata": {
    "colab": {
      "name": "(MyCode)lesson2-download.ipynb",
      "provenance": [],
      "authorship_tag": "ABX9TyMF+Kwd92OSYALUUYZyMPuL",
      "include_colab_link": true
    },
    "kernelspec": {
      "name": "python3",
      "display_name": "Python 3"
    },
    "accelerator": "GPU"
  },
  "cells": [
    {
      "cell_type": "markdown",
      "metadata": {
        "id": "view-in-github",
        "colab_type": "text"
      },
      "source": [
        "<a href=\"https://colab.research.google.com/github/amannarsaria4/fast.ai/blob/master/Lesson%202/(MyCode)lesson2_download.ipynb\" target=\"_parent\"><img src=\"https://colab.research.google.com/assets/colab-badge.svg\" alt=\"Open In Colab\"/></a>"
      ]
    },
    {
      "cell_type": "code",
      "metadata": {
        "id": "uWkvIIfJ1hU5",
        "colab_type": "code",
        "colab": {}
      },
      "source": [
        "from fastai.vision import *"
      ],
      "execution_count": 1,
      "outputs": []
    },
    {
      "cell_type": "markdown",
      "metadata": {
        "id": "qZ72CLgpJRgy",
        "colab_type": "text"
      },
      "source": [
        "###Create Directory, Upload URL, Download Images"
      ]
    },
    {
      "cell_type": "code",
      "metadata": {
        "id": "wf1eii139mX6",
        "colab_type": "code",
        "colab": {}
      },
      "source": [
        "folder = 'black'\n",
        "file = 'urls_black.txt'"
      ],
      "execution_count": 2,
      "outputs": []
    },
    {
      "cell_type": "code",
      "metadata": {
        "id": "Z1i7uiuh-1Ss",
        "colab_type": "code",
        "colab": {}
      },
      "source": [
        "path = Path('data/bears')\n",
        "dest = path/folder\n",
        "dest.mkdir(exist_ok = True, parents = True)"
      ],
      "execution_count": 3,
      "outputs": []
    },
    {
      "cell_type": "code",
      "metadata": {
        "id": "Eagb6qXp_Jug",
        "colab_type": "code",
        "colab": {}
      },
      "source": [
        "download_images(dest/file,dest,max_pics = 200)"
      ],
      "execution_count": null,
      "outputs": []
    },
    {
      "cell_type": "code",
      "metadata": {
        "id": "l5v211ul_Zoe",
        "colab_type": "code",
        "colab": {}
      },
      "source": [
        "folder = 'grizzly'\n",
        "file = 'urls_grizzly.txt'"
      ],
      "execution_count": 6,
      "outputs": []
    },
    {
      "cell_type": "code",
      "metadata": {
        "id": "uraQXVWY_cwm",
        "colab_type": "code",
        "colab": {}
      },
      "source": [
        "path = Path('data/bears')\n",
        "dest = path/folder\n",
        "dest.mkdir(exist_ok = True, parents = True)"
      ],
      "execution_count": 7,
      "outputs": []
    },
    {
      "cell_type": "code",
      "metadata": {
        "id": "wWpOMlQg_jY7",
        "colab_type": "code",
        "colab": {}
      },
      "source": [
        "download_images(dest/file,dest,max_pics = 200)"
      ],
      "execution_count": null,
      "outputs": []
    },
    {
      "cell_type": "code",
      "metadata": {
        "id": "PXrDC7e2_nhO",
        "colab_type": "code",
        "colab": {}
      },
      "source": [
        "folder = 'teddy'\n",
        "file = 'urls_teddy.txt'"
      ],
      "execution_count": 9,
      "outputs": []
    },
    {
      "cell_type": "code",
      "metadata": {
        "id": "JskXuExP_r1M",
        "colab_type": "code",
        "colab": {}
      },
      "source": [
        "path = Path('data/bears')\n",
        "dest = path/folder\n",
        "dest.mkdir(parents = True, exist_ok = True)"
      ],
      "execution_count": 25,
      "outputs": []
    },
    {
      "cell_type": "code",
      "metadata": {
        "id": "KjGiRWYz_5ta",
        "colab_type": "code",
        "colab": {}
      },
      "source": [
        "download_images(dest/file, dest, max_pics = 200)"
      ],
      "execution_count": null,
      "outputs": []
    },
    {
      "cell_type": "code",
      "metadata": {
        "id": "h1hHFfC4BWkM",
        "colab_type": "code",
        "colab": {}
      },
      "source": [
        "classes = ['teddy','grizzly','black']\n",
        "for c in classes:\n",
        "    print(c)\n",
        "    verify_images(path/c, delete=True, max_size=500)"
      ],
      "execution_count": null,
      "outputs": []
    },
    {
      "cell_type": "markdown",
      "metadata": {
        "id": "VVSQlcupJi3D",
        "colab_type": "text"
      },
      "source": [
        "###Show Data"
      ]
    },
    {
      "cell_type": "code",
      "metadata": {
        "id": "7XM1k2odCWfD",
        "colab_type": "code",
        "colab": {}
      },
      "source": [
        "np.random.seed(42)\n",
        "data = ImageDataBunch.from_folder(path, train=\".\", valid_pct=0.2,\n",
        "        ds_tfms=get_transforms(), size=224, num_workers=4).normalize(imagenet_stats)"
      ],
      "execution_count": 27,
      "outputs": []
    },
    {
      "cell_type": "code",
      "metadata": {
        "id": "KUQxqoAEAg7D",
        "colab_type": "code",
        "colab": {}
      },
      "source": [
        "data.show_batch()"
      ],
      "execution_count": null,
      "outputs": []
    },
    {
      "cell_type": "code",
      "metadata": {
        "id": "cTTAyynkCxsS",
        "colab_type": "code",
        "colab": {}
      },
      "source": [
        "data.c,data.classes, len(data.train_ds), len(data.valid_ds)"
      ],
      "execution_count": null,
      "outputs": []
    },
    {
      "cell_type": "markdown",
      "metadata": {
        "id": "vzyrbvWgJumA",
        "colab_type": "text"
      },
      "source": [
        "###Learn Model(Resnet 34) and Fine Tune"
      ]
    },
    {
      "cell_type": "code",
      "metadata": {
        "id": "59zt8URPDBJz",
        "colab_type": "code",
        "colab": {}
      },
      "source": [
        "learn = cnn_learner(data, models.resnet34, metrics = error_rate)"
      ],
      "execution_count": null,
      "outputs": []
    },
    {
      "cell_type": "code",
      "metadata": {
        "id": "o8kM-XPWDMj_",
        "colab_type": "code",
        "colab": {}
      },
      "source": [
        "learn.fit_one_cycle(4)"
      ],
      "execution_count": null,
      "outputs": []
    },
    {
      "cell_type": "code",
      "metadata": {
        "id": "oglKgdYTDQOu",
        "colab_type": "code",
        "colab": {}
      },
      "source": [
        "learn.save('stage-1')"
      ],
      "execution_count": 33,
      "outputs": []
    },
    {
      "cell_type": "code",
      "metadata": {
        "id": "GNOuZpa1DT_L",
        "colab_type": "code",
        "colab": {}
      },
      "source": [
        "learn.unfreeze()"
      ],
      "execution_count": 34,
      "outputs": []
    },
    {
      "cell_type": "code",
      "metadata": {
        "id": "wA3dlQrJDYJz",
        "colab_type": "code",
        "colab": {}
      },
      "source": [
        "learn.lr_find()"
      ],
      "execution_count": null,
      "outputs": []
    },
    {
      "cell_type": "code",
      "metadata": {
        "id": "mOi4VXxXDcRk",
        "colab_type": "code",
        "colab": {}
      },
      "source": [
        "learn.recorder.plot()"
      ],
      "execution_count": null,
      "outputs": []
    },
    {
      "cell_type": "code",
      "metadata": {
        "id": "DdGmDK3IDeUb",
        "colab_type": "code",
        "colab": {}
      },
      "source": [
        "learn.unfreeze()"
      ],
      "execution_count": 39,
      "outputs": []
    },
    {
      "cell_type": "code",
      "metadata": {
        "id": "0U99tkxIDhjG",
        "colab_type": "code",
        "colab": {}
      },
      "source": [
        "learn.fit_one_cycle(2, max_lr = slice(1e-5,1e-4))"
      ],
      "execution_count": null,
      "outputs": []
    },
    {
      "cell_type": "code",
      "metadata": {
        "id": "zsqKBPkkDvRP",
        "colab_type": "code",
        "colab": {}
      },
      "source": [
        "learn.save('stage-2')"
      ],
      "execution_count": 43,
      "outputs": []
    },
    {
      "cell_type": "markdown",
      "metadata": {
        "id": "0nQF6EsfJ4LZ",
        "colab_type": "text"
      },
      "source": [
        "###Interpret"
      ]
    },
    {
      "cell_type": "code",
      "metadata": {
        "id": "K4SkotVHELj-",
        "colab_type": "code",
        "colab": {}
      },
      "source": [
        "interpret = ClassificationInterpretation.from_learner(learn)"
      ],
      "execution_count": null,
      "outputs": []
    },
    {
      "cell_type": "code",
      "metadata": {
        "id": "9K6vhgy-ETlw",
        "colab_type": "code",
        "colab": {}
      },
      "source": [
        "interpret.plot_confusion_matrix()"
      ],
      "execution_count": null,
      "outputs": []
    },
    {
      "cell_type": "markdown",
      "metadata": {
        "id": "F7EwnTsvJ8rg",
        "colab_type": "text"
      },
      "source": [
        "###Clean Data"
      ]
    },
    {
      "cell_type": "code",
      "metadata": {
        "id": "oKOkiZL2EZbJ",
        "colab_type": "code",
        "colab": {}
      },
      "source": [
        "from fastai.widgets import *\n"
      ],
      "execution_count": 45,
      "outputs": []
    },
    {
      "cell_type": "code",
      "metadata": {
        "id": "nicEycC9EgYe",
        "colab_type": "code",
        "colab": {}
      },
      "source": [
        "data = ImageList.from_folder(path).split_none().label_from_folder().transform(get_transforms(),size = 224).databunch()"
      ],
      "execution_count": null,
      "outputs": []
    },
    {
      "cell_type": "code",
      "metadata": {
        "id": "FjGv0MZBFJzP",
        "colab_type": "code",
        "colab": {}
      },
      "source": [
        "learn_clean = cnn_learner(data, models.resnet34, metrics=error_rate)\n",
        "learn_clean.laod('stage-2')"
      ],
      "execution_count": null,
      "outputs": []
    },
    {
      "cell_type": "code",
      "metadata": {
        "id": "4daMW9XBFKOj",
        "colab_type": "code",
        "colab": {}
      },
      "source": [
        "ds, idxs = DatasetFormatter().from_top_losses(learn_clean)"
      ],
      "execution_count": null,
      "outputs": []
    },
    {
      "cell_type": "code",
      "metadata": {
        "id": "W2lzucjlFKL-",
        "colab_type": "code",
        "colab": {}
      },
      "source": [
        "ImageCleaner(ds, idxs, path)"
      ],
      "execution_count": null,
      "outputs": []
    },
    {
      "cell_type": "code",
      "metadata": {
        "id": "pQABFFuhFKJX",
        "colab_type": "code",
        "colab": {}
      },
      "source": [
        "data = ImageList.from_csv(path, 'cleaned.csv', folder = '.').split_none().label_from_df().transform(get_transforms(), size = 224).databunch()"
      ],
      "execution_count": null,
      "outputs": []
    },
    {
      "cell_type": "code",
      "metadata": {
        "id": "8jp2L8bNHtGh",
        "colab_type": "code",
        "colab": {}
      },
      "source": [
        "learn_clean = cnn_learner(data, models.resnet34, metrics=error_rate)\n",
        "learn_clean.laod('stage-2')"
      ],
      "execution_count": null,
      "outputs": []
    },
    {
      "cell_type": "code",
      "metadata": {
        "id": "-ghDL9gkFKG-",
        "colab_type": "code",
        "colab": {}
      },
      "source": [
        "ds, idxs = DatasetFormatter().from_top_losses(learn_clean)"
      ],
      "execution_count": null,
      "outputs": []
    },
    {
      "cell_type": "code",
      "metadata": {
        "id": "tXEYoEvdFKDs",
        "colab_type": "code",
        "colab": {}
      },
      "source": [
        "ImageCleaner(ds, idxs, path)"
      ],
      "execution_count": null,
      "outputs": []
    },
    {
      "cell_type": "markdown",
      "metadata": {
        "id": "fR666Vl0KDTR",
        "colab_type": "text"
      },
      "source": [
        "###Reatrain on clean data set"
      ]
    },
    {
      "cell_type": "code",
      "metadata": {
        "id": "439vea8OFKAR",
        "colab_type": "code",
        "colab": {}
      },
      "source": [
        "data = ImageList.from_csv(path, 'cleaned.csv',folder = '.').split_none().label_from_df().transform(get_transform(), size = 224).databunch()"
      ],
      "execution_count": null,
      "outputs": []
    },
    {
      "cell_type": "code",
      "metadata": {
        "id": "g3hdulKNFJ9j",
        "colab_type": "code",
        "colab": {}
      },
      "source": [
        "learn = cnn_learner(data, models.resnet34, metrics = error_rate)"
      ],
      "execution_count": null,
      "outputs": []
    },
    {
      "cell_type": "code",
      "metadata": {
        "id": "b04gqeaRINM_",
        "colab_type": "code",
        "colab": {}
      },
      "source": [
        "learn.fit_one_cycle(5)\n",
        "learn.save('stage-3')"
      ],
      "execution_count": null,
      "outputs": []
    },
    {
      "cell_type": "markdown",
      "metadata": {
        "id": "ElH21X-EKJ0g",
        "colab_type": "text"
      },
      "source": [
        "###Production"
      ]
    },
    {
      "cell_type": "code",
      "metadata": {
        "id": "zZw8nfgoIaz-",
        "colab_type": "code",
        "colab": {}
      },
      "source": [
        "learn.export()"
      ],
      "execution_count": null,
      "outputs": []
    },
    {
      "cell_type": "code",
      "metadata": {
        "id": "cl7rQJHuIbfN",
        "colab_type": "code",
        "colab": {}
      },
      "source": [
        "img = open_image(path/'bears'/'0000034.jpg')"
      ],
      "execution_count": null,
      "outputs": []
    },
    {
      "cell_type": "code",
      "metadata": {
        "id": "zcCyuSpGIb5p",
        "colab_type": "code",
        "colab": {}
      },
      "source": [
        "learn = load_learner(path)"
      ],
      "execution_count": null,
      "outputs": []
    },
    {
      "cell_type": "code",
      "metadata": {
        "id": "euDS0tQfIbuD",
        "colab_type": "code",
        "colab": {}
      },
      "source": [
        "pred_class, pred_idx, prob = learn.predict(img)"
      ],
      "execution_count": null,
      "outputs": []
    },
    {
      "cell_type": "code",
      "metadata": {
        "id": "jDup-hj5IbOV",
        "colab_type": "code",
        "colab": {}
      },
      "source": [
        "pred_class"
      ],
      "execution_count": null,
      "outputs": []
    }
  ]
}